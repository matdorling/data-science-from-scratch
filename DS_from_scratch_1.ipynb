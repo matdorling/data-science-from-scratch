{
 "cells": [
  {
   "cell_type": "code",
   "execution_count": 5,
   "metadata": {
    "collapsed": false
   },
   "outputs": [
    {
     "name": "stdout",
     "output_type": "stream",
     "text": [
      "[{'name': 'Hero', 'id': 0}, {'name': 'Dunn', 'id': 1}, {'name': 'Sue', 'id': 2}, {'name': 'Chi', 'id': 3}, {'name': 'Thor', 'id': 4}, {'name': 'Clive', 'id': 5}, {'name': 'Hicks', 'id': 6}, {'name': 'Devin', 'id': 7}, {'name': 'Kate', 'id': 8}, {'name': 'Klein', 'id': 9}]\n"
     ]
    }
   ],
   "source": [
    "import math, random, re\n",
    "from collections import defaultdict, Counter, deque\n",
    "\n",
    "from functools import partial\n",
    "\n",
    "users = [\n",
    "    { \"id\": 0, \"name\": \"Hero\" },\n",
    "    { \"id\": 1, \"name\": \"Dunn\" },\n",
    "    { \"id\": 2, \"name\": \"Sue\" },\n",
    "    { \"id\": 3, \"name\": \"Chi\" },\n",
    "    { \"id\": 4, \"name\": \"Thor\" },\n",
    "    { \"id\": 5, \"name\": \"Clive\" },\n",
    "    { \"id\": 6, \"name\": \"Hicks\" },\n",
    "    { \"id\": 7, \"name\": \"Devin\" },\n",
    "    { \"id\": 8, \"name\": \"Kate\" },\n",
    "    { \"id\": 9, \"name\": \"Klein\" }\n",
    "]\n",
    "\n",
    "\n",
    "friendships = [(0, 1), (0, 2), (1, 2), (1, 3), (2, 3), (3, 4),\n",
    "               (4, 5), (5, 6), (5, 7), (6, 8), (7, 8), (8, 9)]\n",
    "\n",
    "# give each user a friends list\n",
    "for user in users:\n",
    "    user[\"friends\"] = []\n",
    "\n",
    "# and populate it\n",
    "for i, j in friendships:\n",
    "    # this works because users[i] is the user whose id is i\n",
    "    users[i][\"friends\"].append(users[j]) # add i as a friend of j\n",
    "    users[j][\"friends\"].append(users[i]) # add j as a friend of i\n"
   ]
  },
  {
   "cell_type": "code",
   "execution_count": 9,
   "metadata": {
    "collapsed": false
   },
   "outputs": [
    {
     "name": "stdout",
     "output_type": "stream",
     "text": [
      "{'name': 'Hero', 'id': 0, 'friends': [{'name': 'Dunn', 'id': 1, 'friends': [{...}, {'name': 'Sue', 'id': 2, 'friends': [{...}, {...}, {'name': 'Chi', 'id': 3, 'friends': [{...}, {...}, {'name': 'Thor', 'id': 4, 'friends': [{...}, {'name': 'Clive', 'id': 5, 'friends': [{...}, {'name': 'Hicks', 'id': 6, 'friends': [{...}, {'name': 'Kate', 'id': 8, 'friends': [{...}, {'name': 'Devin', 'id': 7, 'friends': [{...}, {...}]}, {'name': 'Klein', 'id': 9, 'friends': [{...}]}]}]}, {'name': 'Devin', 'id': 7, 'friends': [{...}, {'name': 'Kate', 'id': 8, 'friends': [{'name': 'Hicks', 'id': 6, 'friends': [{...}, {...}]}, {...}, {'name': 'Klein', 'id': 9, 'friends': [{...}]}]}]}]}]}]}]}, {'name': 'Chi', 'id': 3, 'friends': [{...}, {'name': 'Sue', 'id': 2, 'friends': [{...}, {...}, {...}]}, {'name': 'Thor', 'id': 4, 'friends': [{...}, {'name': 'Clive', 'id': 5, 'friends': [{...}, {'name': 'Hicks', 'id': 6, 'friends': [{...}, {'name': 'Kate', 'id': 8, 'friends': [{...}, {'name': 'Devin', 'id': 7, 'friends': [{...}, {...}]}, {'name': 'Klein', 'id': 9, 'friends': [{...}]}]}]}, {'name': 'Devin', 'id': 7, 'friends': [{...}, {'name': 'Kate', 'id': 8, 'friends': [{'name': 'Hicks', 'id': 6, 'friends': [{...}, {...}]}, {...}, {'name': 'Klein', 'id': 9, 'friends': [{...}]}]}]}]}]}]}]}, {'name': 'Sue', 'id': 2, 'friends': [{...}, {'name': 'Dunn', 'id': 1, 'friends': [{...}, {...}, {'name': 'Chi', 'id': 3, 'friends': [{...}, {...}, {'name': 'Thor', 'id': 4, 'friends': [{...}, {'name': 'Clive', 'id': 5, 'friends': [{...}, {'name': 'Hicks', 'id': 6, 'friends': [{...}, {'name': 'Kate', 'id': 8, 'friends': [{...}, {'name': 'Devin', 'id': 7, 'friends': [{...}, {...}]}, {'name': 'Klein', 'id': 9, 'friends': [{...}]}]}]}, {'name': 'Devin', 'id': 7, 'friends': [{...}, {'name': 'Kate', 'id': 8, 'friends': [{'name': 'Hicks', 'id': 6, 'friends': [{...}, {...}]}, {...}, {'name': 'Klein', 'id': 9, 'friends': [{...}]}]}]}]}]}]}]}, {'name': 'Chi', 'id': 3, 'friends': [{'name': 'Dunn', 'id': 1, 'friends': [{...}, {...}, {...}]}, {...}, {'name': 'Thor', 'id': 4, 'friends': [{...}, {'name': 'Clive', 'id': 5, 'friends': [{...}, {'name': 'Hicks', 'id': 6, 'friends': [{...}, {'name': 'Kate', 'id': 8, 'friends': [{...}, {'name': 'Devin', 'id': 7, 'friends': [{...}, {...}]}, {'name': 'Klein', 'id': 9, 'friends': [{...}]}]}]}, {'name': 'Devin', 'id': 7, 'friends': [{...}, {'name': 'Kate', 'id': 8, 'friends': [{'name': 'Hicks', 'id': 6, 'friends': [{...}, {...}]}, {...}, {'name': 'Klein', 'id': 9, 'friends': [{...}]}]}]}]}]}]}]}]}\n"
     ]
    }
   ],
   "source": []
  },
  {
   "cell_type": "code",
   "execution_count": null,
   "metadata": {
    "collapsed": true
   },
   "outputs": [],
   "source": []
  }
 ],
 "metadata": {
  "kernelspec": {
   "display_name": "Python [conda root]",
   "language": "python",
   "name": "conda-root-py"
  },
  "language_info": {
   "codemirror_mode": {
    "name": "ipython",
    "version": 3
   },
   "file_extension": ".py",
   "mimetype": "text/x-python",
   "name": "python",
   "nbconvert_exporter": "python",
   "pygments_lexer": "ipython3",
   "version": "3.5.2"
  }
 },
 "nbformat": 4,
 "nbformat_minor": 1
}
